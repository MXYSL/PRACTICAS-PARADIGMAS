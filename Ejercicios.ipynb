{
  "nbformat": 4,
  "nbformat_minor": 0,
  "metadata": {
    "colab": {
      "provenance": [],
      "authorship_tag": "ABX9TyMB5xIEIfVOWNODV8C9QZL5",
      "include_colab_link": true
    },
    "kernelspec": {
      "name": "python3",
      "display_name": "Python 3"
    },
    "language_info": {
      "name": "python"
    }
  },
  "cells": [
    {
      "cell_type": "markdown",
      "metadata": {
        "id": "view-in-github",
        "colab_type": "text"
      },
      "source": [
        "<a href=\"https://colab.research.google.com/github/MXYSL/PRACTICAS-PARADIGMAS/blob/main/Ejercicios.ipynb\" target=\"_parent\"><img src=\"https://colab.research.google.com/assets/colab-badge.svg\" alt=\"Open In Colab\"/></a>"
      ]
    },
    {
      "cell_type": "code",
      "execution_count": 1,
      "metadata": {
        "colab": {
          "base_uri": "https://localhost:8080/"
        },
        "id": "2CTjhjHLUAVo",
        "outputId": "c9a7549d-1be8-4ed5-e6ed-0374558d325a"
      },
      "outputs": [
        {
          "output_type": "stream",
          "name": "stdout",
          "text": [
            "[2, 4, 6, 8, 10]\n"
          ]
        }
      ],
      "source": [
        "# Ejercicio 1: Duplicar los valores de elementos de una lista\n",
        "\n",
        "my_list = [1, 2, 3, 4, 5]\n",
        "doubled_list = list(map(lambda x: x * 2, my_list))\n",
        "print(doubled_list)\n"
      ]
    },
    {
      "cell_type": "code",
      "source": [
        "# Ejercicio 3: depende del valor: duplicar si es par, triplicar si es impar\n",
        "\n",
        "lista1 =  [1, 2, 3, 4, 5, 6]\n",
        "lista2 = list(map(lambda x: x * 2 if x % 2 == 0 else x * 3, lista1))\n",
        "\n",
        "listapar = [x for x in lista2 if x % 2 == 0]\n",
        "listaimpar = [x for x in lista2 if x % 2 != 0]\n",
        "\n",
        "print(\"numeros pares: \",listapar)\n",
        "print(\"numeros impares: \",listaimpar)\n",
        "\n"
      ],
      "metadata": {
        "colab": {
          "base_uri": "https://localhost:8080/"
        },
        "id": "XZHVg19MV0kv",
        "outputId": "e4c9dc73-2b5d-4879-ec45-c5896e12e732"
      },
      "execution_count": 2,
      "outputs": [
        {
          "output_type": "stream",
          "name": "stdout",
          "text": [
            "numeros pares:  [4, 8, 12]\n",
            "numeros impares:  [3, 9, 15]\n"
          ]
        }
      ]
    },
    {
      "cell_type": "code",
      "source": [],
      "metadata": {
        "id": "m0_TXjE38Dgp"
      },
      "execution_count": 2,
      "outputs": []
    }
  ]
}